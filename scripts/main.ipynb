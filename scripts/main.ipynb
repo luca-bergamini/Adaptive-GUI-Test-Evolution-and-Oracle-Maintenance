{
 "cells": [
  {
   "cell_type": "code",
   "execution_count": 31,
   "metadata": {},
   "outputs": [],
   "source": [
    "from openai import OpenAI\n",
    "import os\n",
    "import json\n",
    "import re\n",
    "from key import get_key"
   ]
  },
  {
   "cell_type": "code",
   "execution_count": 32,
   "metadata": {},
   "outputs": [],
   "source": [
    "client = OpenAI(\n",
    "    api_key= get_key()\n",
    ")"
   ]
  },
  {
   "cell_type": "code",
   "execution_count": 33,
   "metadata": {},
   "outputs": [],
   "source": [
    "# XML folder\n",
    "OLD_XML_DIR = \"../layouts/v6.1.0\"\n",
    "NEW_XML_DIR = \"../layouts/v6.3.0\"\n",
    "OLD_TESTS_DIR = \"../tests/v6.1.0\"\n",
    "NEW_TESTS_DIR = \"../tests/v6.3.0\"\n",
    "NEW_VERSION = \"v6.3.0\""
   ]
  },
  {
   "cell_type": "code",
   "execution_count": 34,
   "metadata": {},
   "outputs": [],
   "source": [
    "# Read file content\n",
    "def read_file(file_path):\n",
    "    with open(file_path, \"r\", encoding=\"utf-8\") as file:\n",
    "        return file.read()\n",
    "\n",
    "# Get list of files\n",
    "old_xml_files = {f: read_file(os.path.join(OLD_XML_DIR, f)) for f in os.listdir(OLD_XML_DIR)}\n",
    "new_xml_files = {f: read_file(os.path.join(NEW_XML_DIR, f)) for f in os.listdir(NEW_XML_DIR)}\n",
    "old_test_files = {f: read_file(os.path.join(OLD_TESTS_DIR, f)) for f in os.listdir(OLD_TESTS_DIR)}"
   ]
  },
  {
   "cell_type": "code",
   "execution_count": 35,
   "metadata": {},
   "outputs": [],
   "source": [
    "# Convert XMLs into a single string\n",
    "old_xml_data = \"\\n\\n\".join([f\"File: {name}\\n{content}\" for name, content in old_xml_files.items()])\n",
    "new_xml_data = \"\\n\\n\".join([f\"File: {name}\\n{content}\" for name, content in new_xml_files.items()])"
   ]
  },
  {
   "cell_type": "code",
   "execution_count": 36,
   "metadata": {},
   "outputs": [
    {
     "name": "stdout",
     "output_type": "stream",
     "text": [
      "XML differences detected for screen7.xml\n",
      "XML differences detected for screen6.xml\n",
      "XML differences detected for screen5.xml\n",
      "XML differences detected for screen1.xml\n",
      "XML differences detected for screen2.xml\n",
      "XML differences detected for screen3.xml\n",
      "XML differences detected for screen12.xml\n",
      "XML differences detected for screen11.xml\n",
      "XML differences detected for screen10.xml\n",
      "XML differences detected for screen14.xml\n",
      "XML differences detected for screen15.xml\n",
      "XML differences detected for screen8.xml\n",
      "XML differences detected for screen9.xml\n"
     ]
    }
   ],
   "source": [
    "# === STEP 1: Detect UI Changes ===\n",
    "xml_differences = {}\n",
    "\n",
    "for xml_name, old_xml_content in old_xml_files.items():\n",
    "    new_xml_content = new_xml_files.get(xml_name, \"\")\n",
    "\n",
    "    # Construct LLM prompt for detecting differences\n",
    "    prompt = f\"\"\"\n",
    "    You are an expert in analyzing Android UI XML layouts.\n",
    "    Here is the old UI XML layout:\n",
    "    {old_xml_content}\n",
    "\n",
    "    Here is the updated UI XML layout:\n",
    "    {new_xml_content}\n",
    "\n",
    "    Please list all UI changes between these two versions.\n",
    "    Format the response as structured text, including:\n",
    "    - Elements that were **added** (with their IDs and attributes).\n",
    "    - Elements that were **removed**.\n",
    "    - Elements that were **renamed**.\n",
    "    - Any **structural changes** (e.g., button moved inside another layout).\n",
    "\n",
    "    Return the response in JSON format.\n",
    "    \"\"\"\n",
    "\n",
    "    response = client.chat.completions.create(\n",
    "        messages=[{\"role\": \"system\", \"content\": \"You are an expert in Android UI structure analysis.\"},\n",
    "                  {\"role\": \"user\", \"content\": prompt}],\n",
    "        model=\"gpt-4o-mini\"\n",
    "    )\n",
    "\n",
    "    xml_differences[xml_name] = response.choices[0].message.content\n",
    "\n",
    "    print(f\"XML differences detected for {xml_name}\")"
   ]
  },
  {
   "cell_type": "code",
   "execution_count": 37,
   "metadata": {},
   "outputs": [
    {
     "name": "stdout",
     "output_type": "stream",
     "text": [
      "Saved ../tests/v6.3.0/CategoryLifecycleTest.java\n",
      "Saved ../tests/v6.3.0/SearchTagBackArrowTest.java\n",
      "Saved ../tests/v6.3.0/NoteLifecycleTest.java\n",
      "Saved ../tests/v6.3.0/FabCameraNoteTest.java\n",
      "Saved ../tests/v6.3.0/AutoBackupTest.java\n",
      "Saved ../tests/v6.3.0/RecurrenceRuleTest.java\n",
      "Saved ../tests/v6.3.0/SettingsActivityTest.java\n",
      "Saved ../tests/v6.3.0/RemindersLifecycleTest.java\n",
      "Saved ../tests/v6.3.0/BaseEspressoTest.java\n",
      "Saved ../tests/v6.3.0/MrJingleLifecycleTest.java\n",
      "Saved ../tests/v6.3.0/NoteListMenuTest.java\n",
      "Saved ../tests/v6.3.0/DrawerMenusEspressoTest.java\n",
      "Saved ../tests/v6.3.0/FabLifecycleTest.java\n"
     ]
    }
   ],
   "source": [
    "def clean_java_code(java_code):\n",
    "    \"\"\" Remove the code block markers (```java ... ```) \"\"\"\n",
    "    return re.sub(r'```java\\n|\\n```', '', java_code)\n",
    "\n",
    "for test_name, old_test in old_test_files.items():\n",
    "    prompt = f\"\"\"\n",
    "    You are an expert in Android UI test automation using Espresso.\n",
    "\n",
    "    The Android app's UI has changed, and test cases need to be updated accordingly.\n",
    "\n",
    "    Here are all the detected UI changes:\n",
    "    {all_differences}\n",
    "\n",
    "    Here is an old test case:\n",
    "    {old_test}\n",
    "\n",
    "    Please update the test case to ensure it remains valid with the new UI structure.\n",
    "    Ensure that:\n",
    "    - It still verifies the original functionality.\n",
    "    - It interacts with the correct elements based on the updated XML.\n",
    "    - Any removed elements are handled gracefully.\n",
    "    - Any renamed or moved elements are adjusted accordingly.\n",
    "    - It follows best practices for Android UI test automation.\n",
    "\n",
    "    Return only the updated Java test code without any explanation.\n",
    "    \"\"\"\n",
    "\n",
    "    response = client.chat.completions.create(\n",
    "        messages=[{\"role\": \"system\", \"content\": \"You are an expert in Android UI test automation.\"},\n",
    "                  {\"role\": \"user\", \"content\": prompt}],\n",
    "        model=\"gpt-4o-mini\"\n",
    "    )\n",
    "\n",
    "    updated_java_code = response.choices[0].message.content.strip()\n",
    "    cleaned_java_code = clean_java_code(updated_java_code)\n",
    "\n",
    "    # Save the cleaned Java test as a .java file\n",
    "    file_path = f\"../tests/{NEW_VERSION}/{test_name}\"\n",
    "    with open(file_path, \"w\") as f:\n",
    "        f.write(cleaned_java_code)\n",
    "    print(f\"Saved {file_path}\")"
   ]
  }
 ],
 "metadata": {
  "kernelspec": {
   "display_name": ".venv",
   "language": "python",
   "name": "python3"
  },
  "language_info": {
   "codemirror_mode": {
    "name": "ipython",
    "version": 3
   },
   "file_extension": ".py",
   "mimetype": "text/x-python",
   "name": "python",
   "nbconvert_exporter": "python",
   "pygments_lexer": "ipython3",
   "version": "3.13.1"
  }
 },
 "nbformat": 4,
 "nbformat_minor": 2
}
