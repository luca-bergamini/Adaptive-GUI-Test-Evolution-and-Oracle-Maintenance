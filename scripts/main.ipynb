{
 "cells": [
  {
   "cell_type": "code",
   "execution_count": 39,
   "metadata": {},
   "outputs": [],
   "source": [
    "from openai import OpenAI\n",
    "import os\n",
    "from key import get_key"
   ]
  },
  {
   "cell_type": "code",
   "execution_count": 40,
   "metadata": {},
   "outputs": [],
   "source": [
    "client = OpenAI(\n",
    "    api_key= get_key()\n",
    ")"
   ]
  },
  {
   "cell_type": "code",
   "execution_count": 41,
   "metadata": {},
   "outputs": [],
   "source": [
    "layout_folder = \"../layouts/new\""
   ]
  },
  {
   "cell_type": "code",
   "execution_count": 42,
   "metadata": {},
   "outputs": [
    {
     "data": {
      "text/plain": [
       "' with open(\"../layouts/new/impostazioni.xml\", \"r\") as file:\\n    layout_xml = file.read()\\n\\n\\n\\n# Chiamata al modello GPT\\nresponse = client.chat.completions.create(\\n        messages=[{\"role\": \"user\", \"content\": prompt,}], \\n        model=\"gpt-4o-mini\"\\n    )\\n\\nstart_seq = \"```python\"\\nend_seq = \"```\"\\n\\n# Estrai il contenuto dal response\\ncontent = response.choices[0].message.content\\n\\n# Trova la posizione del primo e dell\\'ultimo delimitatore\\nstart_index = content.find(start_seq) + len(start_seq)\\nend_index = content.rfind(end_seq)  # Usa rfind per trovare l\\'ultimo delimitatore\\n\\n# Estrai il codice tra i delimitatori\\ncode = content[start_index:end_index].strip()\\n\\n# Salva i test generati in un file\\noutput_file = f\"../tests/generated_tests_impostazioni.py\"\\nwith open(output_file, \"w\") as output:\\n    output.write(code) '"
      ]
     },
     "execution_count": 42,
     "metadata": {},
     "output_type": "execute_result"
    }
   ],
   "source": [
    "\"\"\" with open(\"../layouts/new/impostazioni.xml\", \"r\") as file:\n",
    "    layout_xml = file.read()\n",
    "\n",
    "\n",
    "\n",
    "# Chiamata al modello GPT\n",
    "response = client.chat.completions.create(\n",
    "        messages=[{\"role\": \"user\", \"content\": prompt,}], \n",
    "        model=\"gpt-4o-mini\"\n",
    "    )\n",
    "\n",
    "start_seq = \"```python\"\n",
    "end_seq = \"```\"\n",
    "\n",
    "# Estrai il contenuto dal response\n",
    "content = response.choices[0].message.content\n",
    "\n",
    "# Trova la posizione del primo e dell'ultimo delimitatore\n",
    "start_index = content.find(start_seq) + len(start_seq)\n",
    "end_index = content.rfind(end_seq)  # Usa rfind per trovare l'ultimo delimitatore\n",
    "\n",
    "# Estrai il codice tra i delimitatori\n",
    "code = content[start_index:end_index].strip()\n",
    "\n",
    "# Salva i test generati in un file\n",
    "output_file = f\"../tests/generated_tests_impostazioni.py\"\n",
    "with open(output_file, \"w\") as output:\n",
    "    output.write(code) \"\"\""
   ]
  },
  {
   "cell_type": "code",
   "execution_count": 43,
   "metadata": {},
   "outputs": [],
   "source": [
    "for filename in os.listdir(layout_folder):\n",
    "    if filename.endswith(\".xml\"):\n",
    "        file_path = os.path.join(layout_folder, filename)\n",
    "\n",
    "        with open(file_path, \"r\") as file:\n",
    "            layout_xml = file.read()\n",
    "\n",
    "        prompt = f\"\"\"\n",
    "            Given the following XML file representing the layout of an Android application called \"ThunderBird\":\n",
    "            {layout_xml}\n",
    "\n",
    "            Generate automated GUI test cases in Python using the Appium framework.\n",
    "            Ensure the tests:\n",
    "            1. Verify the presence of UI components.\n",
    "            2. Test basic interactions like button clicks, text entry, etc.\n",
    "            3. Validate navigation between screens.\n",
    "\n",
    "            Please ensure that all comments are correctly formatted in Python syntax with the '#' symbol at the beginning\n",
    "            of each comment. Do not generate any comments without the '#' symbol.\n",
    "        \"\"\"\n",
    "\n",
    "        # Chiamata al modello GPT\n",
    "        response = client.chat.completions.create(\n",
    "            messages=[{\"role\": \"user\", \"content\": prompt, }],\n",
    "            model=\"gpt-4o-mini\"\n",
    "        )\n",
    "        \n",
    "        start_seq = \"```python\"\n",
    "        end_seq = \"```\"\n",
    "        \n",
    "        # Estrai il contenuto dal response\n",
    "        content = response.choices[0].message.content\n",
    "        # Trova la posizione del primo e dell'ultimo delimitatore\n",
    "        start_index = content.find(start_seq) + len(start_seq)\n",
    "        # Usa rfind per trovare l'ultimo delimitatore\n",
    "        end_index = content.rfind(end_seq)\n",
    "        # Estrai il codice tra i delimitatori\n",
    "        code = content[start_index:end_index].strip()\n",
    "        \n",
    "        # Salva i test generati in un file\n",
    "        output_file = f\"../tests/generated_tests_{os.path.splitext(filename)[0]}.py\"\n",
    "        with open(output_file, \"w\") as output:\n",
    "            output.write(code)"
   ]
  }
 ],
 "metadata": {
  "kernelspec": {
   "display_name": ".venv",
   "language": "python",
   "name": "python3"
  },
  "language_info": {
   "codemirror_mode": {
    "name": "ipython",
    "version": 3
   },
   "file_extension": ".py",
   "mimetype": "text/x-python",
   "name": "python",
   "nbconvert_exporter": "python",
   "pygments_lexer": "ipython3",
   "version": "3.13.1"
  }
 },
 "nbformat": 4,
 "nbformat_minor": 2
}
